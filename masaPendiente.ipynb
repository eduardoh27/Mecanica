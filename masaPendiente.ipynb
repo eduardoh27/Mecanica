{
 "cells": [
  {
   "cell_type": "code",
   "execution_count": 3,
   "metadata": {},
   "outputs": [],
   "source": [
    "import numpy as np\n",
    "import matplotlib.pyplot as plt\n",
    "import matplotlib.animation as anim"
   ]
  },
  {
   "cell_type": "code",
   "execution_count": null,
   "metadata": {},
   "outputs": [],
   "source": [
    "class Particle():\n",
    "    \n",
    "    # Constructor\n",
    "    def __init__(self, r0, v0, a, t):\n",
    "        # atributo de clase\n",
    "        self.t = t\n",
    "        self.r = np.zeros( (len(t),2) )\n",
    "        self.v = np.zeros( (len(t),2) )\n",
    "        self.a = np.zeros( (1,2) )\n",
    "        \n",
    "        # Condiciones iniciales\n",
    "        self.r[0] = r0\n",
    "        self.v[0] = v0\n",
    "        self.a[0] = a\n",
    "       \n",
    "    # Metodos de clase \n",
    "    def PrintR(self):\n",
    "        print(self.r)\n",
    "        \n",
    "    def PrintV(self):\n",
    "        print(self.v)\n",
    "        \n",
    "    def PrintA(self):\n",
    "        print(self.a)\n",
    "        \n",
    "    def EvolucionTemporal(self):\n",
    "        print('Evolucionando la particula')\n",
    "        \n",
    "        for i in range( 1, len(self.t) ):\n",
    "            for j in range(2):\n",
    "                self.v[i,j] = self.v[0,j] + self.a[0,j]*self.t[i]\n",
    "                self.r[i,j] = self.r[0,j] + self.v[0,j]*self.t[i] + 0.5*self.a[0,j]*self.t[i]**2\n",
    "         \n",
    "    # Getters\n",
    "    def GetR(self):\n",
    "        return self.r\n",
    "    def GetV(self):\n",
    "        return self.v"
   ]
  },
  {
   "cell_type": "code",
   "execution_count": null,
   "metadata": {},
   "outputs": [],
   "source": []
  }
 ],
 "metadata": {
  "kernelspec": {
   "display_name": "Python 3.10.6 64-bit",
   "language": "python",
   "name": "python3"
  },
  "language_info": {
   "codemirror_mode": {
    "name": "ipython",
    "version": 3
   },
   "file_extension": ".py",
   "mimetype": "text/x-python",
   "name": "python",
   "nbconvert_exporter": "python",
   "pygments_lexer": "ipython3",
   "version": "3.10.6"
  },
  "orig_nbformat": 4,
  "vscode": {
   "interpreter": {
    "hash": "52cf93b3245c947d64d0217858e618f9641697b5c808500ce60698e2564fce2d"
   }
  }
 },
 "nbformat": 4,
 "nbformat_minor": 2
}
